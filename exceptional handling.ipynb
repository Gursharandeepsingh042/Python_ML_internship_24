{
 "cells": [
  {
   "cell_type": "code",
   "execution_count": 19,
   "id": "ef685278-654a-45dd-8a62-5cafa73fc99f",
   "metadata": {},
   "outputs": [
    {
     "data": {
      "text/plain": [
       "5"
      ]
     },
     "execution_count": 19,
     "metadata": {},
     "output_type": "execute_result"
    }
   ],
   "source": [
    "L=[1,2,3,4,5,6,7]\n",
    "L[4]\n"
   ]
  },
  {
   "cell_type": "code",
   "execution_count": 20,
   "id": "4a382ebf-4d8f-463d-a743-31ef684ac3f9",
   "metadata": {},
   "outputs": [
    {
     "name": "stdout",
     "output_type": "stream",
     "text": [
      "helllay world\n",
      "4\n",
      "invalid index\n",
      "end of the code\n"
     ]
    }
   ],
   "source": [
    "print(\"helllay world\")\n",
    "\n",
    "\n",
    "\n",
    "print(L[3])\n",
    "try:\n",
    "    print(L[7])\n",
    "except:\n",
    "    print(\"invalid index\")\n",
    "print(\"end of the code\")"
   ]
  },
  {
   "cell_type": "code",
   "execution_count": 17,
   "id": "99c4d31d-a442-479b-ac40-70572735f591",
   "metadata": {},
   "outputs": [
    {
     "data": {
      "text/plain": [
       "'exception handling is used to deal with miscarriages while running the code'"
      ]
     },
     "execution_count": 17,
     "metadata": {},
     "output_type": "execute_result"
    }
   ],
   "source": [
    "'''exception handling is used to deal with miscarriages while running the code'''"
   ]
  },
  {
   "cell_type": "code",
   "execution_count": 2,
   "id": "c85229c6-7944-4c2c-b608-1a0cefd6542c",
   "metadata": {},
   "outputs": [
    {
     "name": "stdout",
     "output_type": "stream",
     "text": [
      "B Cannot be zero!\n",
      "code excecuted\n"
     ]
    }
   ],
   "source": [
    "a=30\n",
    "b=0\n",
    "\n",
    "try:\n",
    "    print(a/b)\n",
    "except:\n",
    "    print(\"B Cannot be zero!\")\n",
    "finally:\n",
    "    print(\"code excecuted\")"
   ]
  },
  {
   "cell_type": "code",
   "execution_count": null,
   "id": "384fbe54-c21a-4913-9b5d-81dbacb689de",
   "metadata": {},
   "outputs": [
    {
     "name": "stdin",
     "output_type": "stream",
     "text": [
      "Enter the first number:  22\n",
      "Enter the second number:  q\n"
     ]
    },
    {
     "name": "stdout",
     "output_type": "stream",
     "text": [
      "Invalid input. Please enter a valid number.\n"
     ]
    }
   ],
   "source": [
    "while True:\n",
    "    try:\n",
    "        num1 = float(input(\"Enter the first number: \"))\n",
    "        num2 = float(input(\"Enter the second number: \"))\n",
    "        result = num1 / num2\n",
    "        print(result)\n",
    "        break\n",
    "    except ValueError:\n",
    "        print(\"Invalid input. Please enter a valid number.\")\n",
    "    except ZeroDivisionError:\n",
    "        print(\"Division by zero is not allowed. Please enter the numbers again.\")\n",
    "                "
   ]
  },
  {
   "cell_type": "code",
   "execution_count": null,
   "id": "035f3d50-3f09-4bad-b583-13261f4271d2",
   "metadata": {},
   "outputs": [],
   "source": []
  }
 ],
 "metadata": {
  "kernelspec": {
   "display_name": "Python 3 (ipykernel)",
   "language": "python",
   "name": "python3"
  },
  "language_info": {
   "codemirror_mode": {
    "name": "ipython",
    "version": 3
   },
   "file_extension": ".py",
   "mimetype": "text/x-python",
   "name": "python",
   "nbconvert_exporter": "python",
   "pygments_lexer": "ipython3",
   "version": "3.12.4"
  }
 },
 "nbformat": 4,
 "nbformat_minor": 5
}
