{
 "cells": [
  {
   "cell_type": "code",
   "execution_count": 39,
   "id": "6192368c-9446-4752-908e-94a47803b4a3",
   "metadata": {},
   "outputs": [
    {
     "name": "stdout",
     "output_type": "stream",
     "text": [
      "        * \n",
      "      * * \n",
      "    * * * \n",
      "  * * * * \n",
      "* * * * * \n"
     ]
    }
   ],
   "source": [
    "\n",
    "rows = 5\n",
    "k = 2*rows-2\n",
    "\n",
    "\n",
    "for i in range(rows):\n",
    "    for j in range(k):\n",
    "        print(end=\" \")\n",
    "    k = k-2\n",
    "    for j in range(i+1):\n",
    "        print(\"*\", end=\" \")\n",
    "    print()\n",
    "    "
   ]
  },
  {
   "cell_type": "raw",
   "id": "2564b836-1aea-4cfe-93fe-8d7b076e01bc",
   "metadata": {},
   "source": [
    "Q2: input two numbers from user and divide them. handle arthimetic exception and numberformatexception , in case it happens infornm the user to input again"
   ]
  },
  {
   "cell_type": "code",
   "execution_count": 68,
   "id": "e3ce4ba8-cc0a-4f56-9cfb-ca83729ba73d",
   "metadata": {},
   "outputs": [
    {
     "name": "stdin",
     "output_type": "stream",
     "text": [
      "Enter the first number: 1\n",
      "Enter the second number: 1\n"
     ]
    },
    {
     "name": "stdout",
     "output_type": "stream",
     "text": [
      "1.0\n"
     ]
    }
   ],
   "source": [
    "def check(num):\n",
    "    while True:\n",
    "        try:\n",
    "            return float(input(num))\n",
    "        except ValueError:\n",
    "            print(\"Invalid input. Please enter a valid number.\")\n",
    "\n",
    "    \n",
    "\n",
    "while True:\n",
    "        try:\n",
    "                num1 = check(\"Enter the first number:\")\n",
    "                num2 = check(\"Enter the second number:\")\n",
    "                result = num1 / num2\n",
    "                print(result)\n",
    "                break\n",
    "            \n",
    "        except ZeroDivisionError:\n",
    "                print(\"Division by zero is not allowed. Please enter the numbers again.\")\n",
    "                "
   ]
  },
  {
   "cell_type": "code",
   "execution_count": 69,
   "id": "87cf9e6d-d680-4cf5-a66f-f997799e9a64",
   "metadata": {},
   "outputs": [
    {
     "name": "stdin",
     "output_type": "stream",
     "text": [
      "Enter the first number:  e\n"
     ]
    },
    {
     "name": "stdout",
     "output_type": "stream",
     "text": [
      "Invalid input. Please enter a valid number.\n"
     ]
    },
    {
     "name": "stdin",
     "output_type": "stream",
     "text": [
      "Enter the first number:  w\n"
     ]
    },
    {
     "name": "stdout",
     "output_type": "stream",
     "text": [
      "Invalid input. Please enter a valid number.\n"
     ]
    },
    {
     "name": "stdin",
     "output_type": "stream",
     "text": [
      "Enter the first number:  34\n",
      "Enter the second number:  4\n"
     ]
    },
    {
     "name": "stdout",
     "output_type": "stream",
     "text": [
      "8.5\n"
     ]
    }
   ],
   "source": [
    "while True:\n",
    "    try:\n",
    "        num1 = float(input(\"Enter the first number: \"))\n",
    "        num2 = float(input(\"Enter the second number: \"))\n",
    "        result = num1 / num2\n",
    "        print(result)\n",
    "        break\n",
    "    except ValueError:\n",
    "        print(\"Invalid input. Please enter a valid number.\")\n",
    "    except ZeroDivisionError:\n",
    "        print(\"Division by zero is not allowed. Please enter the numbers again.\")"
   ]
  },
  {
   "cell_type": "code",
   "execution_count": null,
   "id": "2d57bd35-c893-4efd-bf1f-286707109850",
   "metadata": {},
   "outputs": [],
   "source": []
  }
 ],
 "metadata": {
  "kernelspec": {
   "display_name": "Python 3 (ipykernel)",
   "language": "python",
   "name": "python3"
  },
  "language_info": {
   "codemirror_mode": {
    "name": "ipython",
    "version": 3
   },
   "file_extension": ".py",
   "mimetype": "text/x-python",
   "name": "python",
   "nbconvert_exporter": "python",
   "pygments_lexer": "ipython3",
   "version": "3.12.4"
  }
 },
 "nbformat": 4,
 "nbformat_minor": 5
}
