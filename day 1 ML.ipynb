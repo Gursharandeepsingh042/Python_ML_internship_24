{
 "cells": [
  {
   "cell_type": "code",
   "execution_count": 2,
   "id": "ec8d257d-6432-4532-a5b4-cee8dad19924",
   "metadata": {},
   "outputs": [
    {
     "name": "stdout",
     "output_type": "stream",
     "text": [
      "hello\n"
     ]
    }
   ],
   "source": []
  },
  {
   "cell_type": "code",
   "execution_count": 2,
   "id": "692549fb-249c-4cb6-8e74-5c065252e204",
   "metadata": {},
   "outputs": [
    {
     "data": {
      "text/plain": [
       "7"
      ]
     },
     "execution_count": 2,
     "metadata": {},
     "output_type": "execute_result"
    }
   ],
   "source": [
    "#working of a function\n",
    "#an assembly of lines of codoes which are used to perform a particular task.\n",
    "# a function has three parts\n",
    "#function defination,function declaration and function calling\n",
    "\n",
    "\n",
    "\"\"\"structure of a function\n",
    "def functionname(parameters):\n",
    "    defination.\n",
    "    .\n",
    "    .\n",
    "    .\n",
    "    returntype\n",
    "    \"\"\"\n",
    "#example\n",
    "def addnum(a,b):\n",
    "    c=a+b\n",
    "    return c\n",
    "\n",
    "addnum(5,2)\n",
    "\n",
    "\"\"\" parameters: values to be called in function defination.\n",
    "        types:\n",
    "        actual parameters: giving the real value which is to be calculated \n",
    "\n",
    "        formal parameters: calling the real value through some variables.\n",
    "        \"\"\"\n",
    "\n"
   ]
  },
  {
   "cell_type": "code",
   "execution_count": null,
   "id": "1a9fa84f-d3ca-4a95-b204-0ee0ec3198ac",
   "metadata": {
    "scrolled": true
   },
   "outputs": [],
   "source": [
    "#Actual parameters\n",
    "def addnum(a,b):\n",
    "    c=a+b\n",
    "    return c\n",
    "\n",
    "addnum(5,2)\n",
    "\n",
    "#formal parameters\n",
    "def addnum(a,b):\n",
    "    c=a+b\n",
    "    return c\n",
    "\n",
    "a=int(input(\" enter a\"))\n",
    "b=int(input(\"enter b\"))\n",
    "\n",
    "addnum(a,b)\n",
    "\n",
    "        "
   ]
  },
  {
   "cell_type": "code",
   "execution_count": 3,
   "id": "55676d95-ad52-4ec4-bcd5-e439e770c775",
   "metadata": {},
   "outputs": [
    {
     "data": {
      "text/plain": [
       "'working of array\\nhow does indexing work\\n#formulae: arr+size of arr*i'"
      ]
     },
     "execution_count": 3,
     "metadata": {},
     "output_type": "execute_result"
    }
   ],
   "source": [
    "'''working of array\n",
    "how does indexing work\n",
    "#formulae: arr+size of arr*i'''"
   ]
  },
  {
   "cell_type": "code",
   "execution_count": 2,
   "id": "73e731d9-bdc4-4941-85f9-d689c1f8d0fc",
   "metadata": {},
   "outputs": [],
   "source": [
    "def prime(a):\n",
    "    if a==1 :\n",
    "        \n",
    "        print(\"its not a prime number\")\n",
    "    elif a>=1 :\n",
    "        for i in range(2,a//2):\n",
    "            if(a%i==0):\n",
    "                print(\" not a prime number\")\n",
    "                break\n",
    "            else:\n",
    "                print(\"prime number\")\n",
    "                return a\n",
    "\n",
    "    \n",
    "    x=int(input(\" enter your number\"))\n",
    "    prime(x)"
   ]
  },
  {
   "cell_type": "code",
   "execution_count": 1,
   "id": "83df0c1f-c60f-4c1a-9263-08d1271f8734",
   "metadata": {},
   "outputs": [
    {
     "ename": "SyntaxError",
     "evalue": "incomplete input (3123258242.py, line 4)",
     "output_type": "error",
     "traceback": [
      "\u001b[1;36m  Cell \u001b[1;32mIn[1], line 4\u001b[1;36m\u001b[0m\n\u001b[1;33m    \u001b[0m\n\u001b[1;37m    ^\u001b[0m\n\u001b[1;31mSyntaxError\u001b[0m\u001b[1;31m:\u001b[0m incomplete input\n"
     ]
    }
   ],
   "source": [
    "#code for a palimdrome\n",
    "def palimdrome(a):\n",
    "\n",
    "    \n",
    "    "
   ]
  },
  {
   "cell_type": "code",
   "execution_count": null,
   "id": "f2141070-dd72-4851-978d-805a6de40fbb",
   "metadata": {},
   "outputs": [],
   "source": [
    "\"\"\" classes\n",
    "private : __\n",
    "public : no sign\n",
    "protected: _\n",
    "\n",
    "class abc:\n",
    "    def_intl_self\n",
    "    "
   ]
  },
  {
   "cell_type": "code",
   "execution_count": 13,
   "id": "8a3508cf-31c4-4c95-9526-82547631fd5d",
   "metadata": {},
   "outputs": [
    {
     "name": "stdout",
     "output_type": "stream",
     "text": [
      "this is public funtion1 from class A \n"
     ]
    },
    {
     "ename": "AttributeError",
     "evalue": "'A' object has no attribute '_fun2_'",
     "output_type": "error",
     "traceback": [
      "\u001b[1;31m---------------------------------------------------------------------------\u001b[0m",
      "\u001b[1;31mAttributeError\u001b[0m                            Traceback (most recent call last)",
      "Cell \u001b[1;32mIn[13], line 32\u001b[0m\n\u001b[0;32m     29\u001b[0m obj3\u001b[38;5;241m=\u001b[39mC()\n\u001b[0;32m     31\u001b[0m obj1\u001b[38;5;241m.\u001b[39mfun1()\n\u001b[1;32m---> 32\u001b[0m \u001b[43mobj1\u001b[49m\u001b[38;5;241;43m.\u001b[39;49m\u001b[43m_fun2_\u001b[49m()\n\u001b[0;32m     33\u001b[0m obj2\u001b[38;5;241m.\u001b[39mfun3()\n\u001b[0;32m     34\u001b[0m obj2\u001b[38;5;241m.\u001b[39m_fun4_()\n",
      "\u001b[1;31mAttributeError\u001b[0m: 'A' object has no attribute '_fun2_'"
     ]
    }
   ],
   "source": [
    "class A:\n",
    "  def __init__(self):\n",
    "    self.a=2\n",
    "  def fun1(self):\n",
    "    print(\"this is public funtion1 from class A \")\n",
    "  def fun2(self):\n",
    "    print(\"this is protected funtion2 from class A \")\n",
    "\n",
    "class B:\n",
    "  def __init__(self):\n",
    "    self.a=3\n",
    "  def fun3(self):\n",
    "    print(\"this is public funtion3 from class B \")\n",
    "  def fun4(self):\n",
    "    print(\"this is protected funtion4 from class B \")\n",
    "\n",
    "class C:\n",
    "  def __init__(self):\n",
    "    self.a=4\n",
    "  def fun5(self):\n",
    "    print(\"this is public funtion5 from class C \")\n",
    "  def fun6(self):\n",
    "    print(\"this is protected funtion6 from class C \")\n",
    "\n",
    "\n",
    "if __name__==\"__main__\":\n",
    "  obj1=A()\n",
    "  obj2=B()\n",
    "  obj3=C()\n",
    "\n",
    "  obj1.fun1()\n",
    "  obj1._fun2_()\n",
    "  obj2.fun3()\n",
    "  obj2._fun4_()\n",
    "  obj3.fun5()\n",
    "  obj3._fun6_()\n",
    "\n",
    "print(obj1._a)\n",
    "print(obj1.__ab)\n",
    "print(obj2._a)\n",
    "print(obj3._a)\n",
    "  \n",
    "    \n",
    "\n",
    "\n"
   ]
  },
  {
   "cell_type": "code",
   "execution_count": null,
   "id": "78f206cb-f574-4e59-8622-8f1c9223ba56",
   "metadata": {},
   "outputs": [],
   "source": []
  },
  {
   "cell_type": "code",
   "execution_count": null,
   "id": "3d15c27b-615c-4fab-9e50-38334f338c1c",
   "metadata": {},
   "outputs": [],
   "source": []
  },
  {
   "cell_type": "code",
   "execution_count": null,
   "id": "f92b1c92-1105-4c79-b4de-a07c12fae00f",
   "metadata": {},
   "outputs": [],
   "source": []
  }
 ],
 "metadata": {
  "kernelspec": {
   "display_name": "Python 3 (ipykernel)",
   "language": "python",
   "name": "python3"
  },
  "language_info": {
   "codemirror_mode": {
    "name": "ipython",
    "version": 3
   },
   "file_extension": ".py",
   "mimetype": "text/x-python",
   "name": "python",
   "nbconvert_exporter": "python",
   "pygments_lexer": "ipython3",
   "version": "3.12.4"
  }
 },
 "nbformat": 4,
 "nbformat_minor": 5
}
